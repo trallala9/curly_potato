{
 "cells": [
  {
   "cell_type": "markdown",
   "metadata": {},
   "source": [
    "# Cześć!\n",
    "W tym module dowiesz się, czym jest transfer wiedzy (ang. *transfer learning*). Poznasz również takie architektury, jak:\n",
    "\n",
    "✓ AlexNet  \n",
    "✓ VGG  \n",
    "✓ GoogLeNet (Inception)  \n",
    "✓ ResNet  \n",
    "\n",
    "Zrobisz kilka ciekawych zadań np. CIFAIR-10 i ponownie [Fashion MNIST](https://github.com/zalandoresearch/fashion-mnist).\n",
    "\n",
    "Natomiast najbardziej złożona będzie klasyfikacja [lasów w Amazonii](https://www.kaggle.com/c/planet-understanding-the-amazon-from-space). Mam nadzieję, że to zadanie będzie również dla Ciebie ciekawe. Postaraj się przeznaczyć na nie najwięcej czasu. \n",
    "\n",
    "![](../input/amazon/amazon_examples.png)\n",
    "\n",
    "## Video"
   ]
  },
  {
   "cell_type": "code",
   "execution_count": 1,
   "metadata": {},
   "outputs": [
    {
     "data": {
      "text/html": [
       "<iframe style=\"height:500px;width:100%\" src=\"https://www.youtube.com/embed/goj7spJUujw\" frameborder=\"0\" gesture=\"media\" allowfullscreen></iframe>\n"
      ],
      "text/plain": [
       "<IPython.core.display.HTML object>"
      ]
     },
     "metadata": {},
     "output_type": "display_data"
    }
   ],
   "source": [
    "%%html\n",
    "<iframe style=\"height:500px;width:100%\" src=\"https://www.youtube.com/embed/goj7spJUujw\" frameborder=\"0\" gesture=\"media\" allowfullscreen></iframe>"
   ]
  },
  {
   "cell_type": "markdown",
   "metadata": {},
   "source": [
    "## E-book\n",
    "Polecam przeczytać mini-książkę, gdzie wiele rzeczy pokrywa się z wideo, ale jednak nie wszystko. Jak czytasz, nawet to samo, włączają się inne neurony i materiał jest inaczej rozumiany. Na dodatek, jak coś jest niezrozumiałe, można na chwilę się zatrzymać (z wideo też można, ale to jest mniej wygodne).\n",
    "\n",
    "<a href=\"https://www.dropbox.com/s/qsl4a9fpk32giyg/Praktyczne_uczenie_maszynowe_modul7.pdf?dl=1\"><img src=\"https://www.dropbox.com/s/a6coauh7lhubeg4/logo.png?dl=1\" /></a>\n",
    "\n",
    "[Pobrać](https://www.dropbox.com/s/qsl4a9fpk32giyg/Praktyczne_uczenie_maszynowe_modul7.pdf?dl=1)"
   ]
  },
  {
   "cell_type": "code",
   "execution_count": 3,
   "metadata": {},
   "outputs": [
    {
     "data": {
      "text/html": [
       "<h2>Audio</h2>\n",
       "To jest audio z wideo (jeden do jednego). Być może chcesz słuchać w drodze do pracy lub na siłownię, tak jak podcastu.</p>\n",
       "<audio controls style=\"width: 700px;\"><source src=\"https://www.dropbox.com/s/s39zwliyuli517b/audio.m4a?dl=1\" type='audio/mpeg'></audio>\n"
      ],
      "text/plain": [
       "<IPython.core.display.HTML object>"
      ]
     },
     "metadata": {},
     "output_type": "display_data"
    }
   ],
   "source": [
    "%%html\n",
    "<h2>Audio</h2>\n",
    "To jest audio z wideo (jeden do jednego). Być może chcesz słuchać w drodze do pracy lub na siłownię, tak jak podcastu.</p>\n",
    "<audio controls style=\"width: 700px;\"><source src=\"https://www.dropbox.com/s/s39zwliyuli517b/audio.m4a?dl=1\" type='audio/mpeg'></audio>"
   ]
  },
  {
   "cell_type": "code",
   "execution_count": null,
   "metadata": {},
   "outputs": [],
   "source": []
  }
 ],
 "metadata": {
  "kernelspec": {
   "display_name": "Python 3",
   "language": "python",
   "name": "python3"
  },
  "language_info": {
   "codemirror_mode": {
    "name": "ipython",
    "version": 3
   },
   "file_extension": ".py",
   "mimetype": "text/x-python",
   "name": "python",
   "nbconvert_exporter": "python",
   "pygments_lexer": "ipython3",
   "version": "3.7.6"
  }
 },
 "nbformat": 4,
 "nbformat_minor": 2
}
