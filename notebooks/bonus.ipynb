{
 "cells": [
  {
   "cell_type": "markdown",
   "metadata": {
    "collapsed": true
   },
   "source": [
    "# Czy to jest ten sam człowiek?\n",
    "\n",
    "### Celem jest pokazanie łatwego sposobu rozpoznania, że na dwóch zdjęciach jest ten sam człowiek.\n",
    "\n",
    "Do czego jest to nam potrzebne? To może mieć wiele zastosowań np. ktoś przychodzi do banku z paszportem i chcemy sprawdzić, czy to jest ten sam człowiek (co w dokumentach). Z bardziej nowoczesnych rozwiązań - [zamiast używania biletu w komunikacji miejskiej, możemy skanować twarze](https://www.theverge.com/2018/5/7/17329196/ticketmaster-facial-recognition-tickets-investment-blink-identity) i wykrywać osoby, które nie mają biletu.\n",
    "\n",
    "Trochę z innej beczki - w sklepach możemy sprawdzać, czy ten człowiek już kiedyś tutaj był, na co patrzył, co kupił itd. Swoją drogą zbieranie danych prywatnych wymaga zgody. Jak myślisz, jeśli przechowujemy wektor opisujący twarz człowieka, czy to już są dane prywatne? :)\n",
    "\n",
    "Do tego zadania będziemy wykorzystywać bibliotekę [dlib](http://dlib.net/), która jest napisana w C++ oraz wykorzystamy model ResNet. Biblioteka na prostych przykładach działa raczej bardzo dobrze, dlatego zróbmy bardziej skomplikowany test.\n",
    "\n",
    "Swoją drogą zwróć uwagę, jak szybko działa rozwiązanie."
   ]
  },
  {
   "cell_type": "code",
   "execution_count": null,
   "metadata": {},
   "outputs": [],
   "source": [
    "import dlib\n",
    "from skimage import io\n",
    "from scipy.spatial import distance\n",
    "\n",
    "import matplotlib.pyplot as plt\n",
    "%matplotlib inline"
   ]
  },
  {
   "cell_type": "markdown",
   "metadata": {},
   "source": [
    "## Wczytujemy model"
   ]
  },
  {
   "cell_type": "code",
   "execution_count": null,
   "metadata": {},
   "outputs": [],
   "source": [
    "sp = dlib.shape_predictor('../input/shape_predictor_68_face_landmarks.dat')\n",
    "facerec = dlib.face_recognition_model_v1('../input/dlib_face_recognition_resnet_model_v1.dat')\n",
    "detector = dlib.get_frontal_face_detector()"
   ]
  },
  {
   "cell_type": "markdown",
   "metadata": {},
   "source": [
    "## Przypadkowe zdjęcie\n",
    "Znalazłem zdjęcie w sieci, które nie jest banalne - człowiek różni się \"w życiu\" od tego, co jest w paszporcie. Taka życiowa sprawa :)."
   ]
  },
  {
   "cell_type": "code",
   "execution_count": null,
   "metadata": {},
   "outputs": [],
   "source": [
    "plt.figure(figsize=(12, 10))\n",
    "plt.axis('off')\n",
    "io.imshow('../input/faces/photo0.jpg');"
   ]
  },
  {
   "cell_type": "markdown",
   "metadata": {},
   "source": [
    "## Zdjęcie z paszportu\n",
    "\n",
    "Zaczynamy analizę od zdjęcia z paszportu."
   ]
  },
  {
   "cell_type": "code",
   "execution_count": null,
   "metadata": {},
   "outputs": [],
   "source": [
    "img_passport = io.imread('../input/faces/photo0_passport.jpg')"
   ]
  },
  {
   "cell_type": "markdown",
   "metadata": {},
   "source": [
    "###  Kod poniżej potrzebuje [X11](https://unix.stackexchange.com/questions/276168/what-is-x11-exactly)/GUI (serwer nie ma GUI, więc tylko lokalnie można to uruchomić).\n",
    "\n",
    "Odpaliłem to lokalnie, żeby pokazać Ci przykładowy wynik (wykrywanie oczu, nosa, brwi itd.)."
   ]
  },
  {
   "cell_type": "code",
   "execution_count": null,
   "metadata": {},
   "outputs": [],
   "source": [
    "def calc_descriptor(img, win=None):\n",
    "    if win:\n",
    "        win.clear_overlay()\n",
    "        win.set_image(img)\n",
    "        \n",
    "    dets = detector(img, 1)\n",
    "    \n",
    "    for k, d in enumerate(dets):\n",
    "        print(\"Detection {}: Left: {} Top: {} Right: {} Bottom: {}\".format(\n",
    "            k, d.left(), d.top(), d.right(), d.bottom()))\n",
    "        shape = sp(img, d)\n",
    "        \n",
    "        if win:\n",
    "            win.clear_overlay()\n",
    "            win.add_overlay(d)\n",
    "            win.add_overlay(shape)\n",
    "            \n",
    "    return facerec.compute_face_descriptor(img, shape)"
   ]
  },
  {
   "cell_type": "markdown",
   "metadata": {},
   "source": [
    "![](../input/faces/descr_passport_0.png)"
   ]
  },
  {
   "cell_type": "markdown",
   "metadata": {},
   "source": [
    "## Wektor\n",
    "Wyliczamy wektor \"twarzy\" dla zdjęcia (w tym przypadku dla zdjęcia z paszportu)."
   ]
  },
  {
   "cell_type": "code",
   "execution_count": null,
   "metadata": {},
   "outputs": [],
   "source": [
    "img_passport = io.imread('../input/faces/photo0_passport.jpg')\n",
    "face_descriptor_passport = calc_descriptor(img_passport)"
   ]
  },
  {
   "cell_type": "markdown",
   "metadata": {},
   "source": [
    "## Zdjęcie \"z życia\"\n",
    "Teraz analizujemy podobnie zdjęcie \"z życia\"."
   ]
  },
  {
   "cell_type": "code",
   "execution_count": null,
   "metadata": {},
   "outputs": [],
   "source": [
    "img_life = io.imread('../input/faces/photo0_life.jpg')\n",
    "face_descriptor_life = calc_descriptor(img_life)"
   ]
  },
  {
   "cell_type": "markdown",
   "metadata": {},
   "source": [
    "![](../input/faces/descr_life_0.png)"
   ]
  },
  {
   "cell_type": "markdown",
   "metadata": {},
   "source": [
    "## Porównujemy dwa zdjęcia\n",
    "\n",
    "Zaleca się wynik traktować w ten sposób - jeśli jest mniejszy niż 0.6, to wtedy to jest ten sam człowiek.\n",
    "\n",
    "Czemu 0.6? Ponieważ taki threshold sprawdził się w praktyce. Kawałek z dokumentacji: \n",
    "```\n",
    "When using a distance threshold of 0.6, the dlib model obtains an accuracy of 99.38% on the standard LFW face recognition benchmark, which is comparable to other state-of-the-art methods for face recognition as of February 2017.\n",
    "```\n",
    "\n",
    "Więcej jest [tutaj](http://dlib.net/face_recognition.py.html)."
   ]
  },
  {
   "cell_type": "code",
   "execution_count": null,
   "metadata": {},
   "outputs": [],
   "source": [
    "distance.euclidean(face_descriptor_passport, face_descriptor_life)"
   ]
  },
  {
   "cell_type": "markdown",
   "metadata": {},
   "source": [
    "No to jedziemy teraz na większych obrotach :).\n",
    "\n",
    "## Przykład #1"
   ]
  },
  {
   "cell_type": "code",
   "execution_count": null,
   "metadata": {},
   "outputs": [],
   "source": [
    "plt.figure(figsize=(12, 10))\n",
    "plt.axis('off')\n",
    "io.imshow('../input/faces/photo1.jpg');"
   ]
  },
  {
   "cell_type": "code",
   "execution_count": null,
   "metadata": {},
   "outputs": [],
   "source": [
    "# win = dlib.image_window()\n",
    "face_descriptor_passport = calc_descriptor(io.imread('../input/faces/photo1_passport.jpg'))\n",
    "face_descriptor_life = calc_descriptor(io.imread('../input/faces/photo1_life.jpg'))\n",
    "\n",
    "distance.euclidean(face_descriptor_passport, face_descriptor_life)"
   ]
  },
  {
   "cell_type": "code",
   "execution_count": null,
   "metadata": {},
   "outputs": [],
   "source": [
    "plt.figure(figsize=(12, 10))\n",
    "\n",
    "plt.subplot(121)\n",
    "io.imshow('../input/faces/desc_life_0.png')\n",
    "\n",
    "plt.subplot(122)\n",
    "io.imshow('../input/faces/desc_passport_0.png');"
   ]
  },
  {
   "cell_type": "markdown",
   "metadata": {},
   "source": [
    "## Przykład #2"
   ]
  },
  {
   "cell_type": "code",
   "execution_count": null,
   "metadata": {},
   "outputs": [],
   "source": [
    "plt.figure(figsize=(12, 10))\n",
    "plt.axis('off')\n",
    "io.imshow('../input/faces/photo2.jpg');"
   ]
  },
  {
   "cell_type": "code",
   "execution_count": null,
   "metadata": {},
   "outputs": [],
   "source": [
    "face_descriptor_passport = calc_descriptor(io.imread('../input/faces/photo2_passport.jpg'))\n",
    "face_descriptor_life = calc_descriptor(io.imread('../input/faces/photo2_life.jpg'))\n",
    "\n",
    "distance.euclidean(face_descriptor_passport, face_descriptor_life)"
   ]
  },
  {
   "cell_type": "markdown",
   "metadata": {},
   "source": [
    "## Przykład #3"
   ]
  },
  {
   "cell_type": "code",
   "execution_count": null,
   "metadata": {},
   "outputs": [],
   "source": [
    "plt.figure(figsize=(12, 10))\n",
    "plt.axis('off')\n",
    "io.imshow('../input/faces/photo3.jpg');"
   ]
  },
  {
   "cell_type": "code",
   "execution_count": null,
   "metadata": {},
   "outputs": [],
   "source": [
    "face_descriptor_passport = calc_descriptor(io.imread('../input/faces/photo3_passport.jpg'))\n",
    "face_descriptor_life = calc_descriptor(io.imread('../input/faces/photo3_life.jpg'))\n",
    "\n",
    "distance.euclidean(face_descriptor_passport, face_descriptor_life)"
   ]
  },
  {
   "cell_type": "markdown",
   "metadata": {},
   "source": [
    "## Przykład #4"
   ]
  },
  {
   "cell_type": "code",
   "execution_count": null,
   "metadata": {},
   "outputs": [],
   "source": [
    "plt.figure(figsize=(12, 10))\n",
    "plt.axis('off')\n",
    "io.imshow('../input/faces/photo4.jpg');"
   ]
  },
  {
   "cell_type": "code",
   "execution_count": null,
   "metadata": {},
   "outputs": [],
   "source": [
    "face_descriptor_passport = calc_descriptor(io.imread('../input/faces/photo4_passport.jpg'))\n",
    "face_descriptor_life = calc_descriptor(io.imread('../input/faces/photo4_life.jpg'))\n",
    "\n",
    "distance.euclidean(face_descriptor_passport, face_descriptor_life)"
   ]
  },
  {
   "cell_type": "code",
   "execution_count": null,
   "metadata": {},
   "outputs": [],
   "source": [
    "plt.figure(figsize=(12, 10))\n",
    "\n",
    "plt.subplot(121)\n",
    "io.imshow('../input/faces/desc_life_4.png')\n",
    "\n",
    "plt.subplot(122)\n",
    "io.imshow('../input/faces/desc_passport_4.png');"
   ]
  },
  {
   "cell_type": "markdown",
   "metadata": {},
   "source": [
    "## Przykład #5"
   ]
  },
  {
   "cell_type": "code",
   "execution_count": null,
   "metadata": {},
   "outputs": [],
   "source": [
    "plt.figure(figsize=(12, 10))\n",
    "plt.axis('off')\n",
    "io.imshow('../input/faces/photo5.jpg');"
   ]
  },
  {
   "cell_type": "code",
   "execution_count": null,
   "metadata": {},
   "outputs": [],
   "source": [
    "face_descriptor_passport = calc_descriptor(io.imread('../input/faces/photo5_passport.jpg'))\n",
    "face_descriptor_life = calc_descriptor(io.imread('../input/faces/photo5_life.jpg'))\n",
    "\n",
    "distance.euclidean(face_descriptor_passport, face_descriptor_life)"
   ]
  },
  {
   "cell_type": "markdown",
   "metadata": {},
   "source": [
    "## Przykład #6"
   ]
  },
  {
   "cell_type": "code",
   "execution_count": null,
   "metadata": {},
   "outputs": [],
   "source": [
    "plt.figure(figsize=(12, 10))\n",
    "plt.axis('off')\n",
    "io.imshow('../input/faces/photo6.jpg');"
   ]
  },
  {
   "cell_type": "code",
   "execution_count": null,
   "metadata": {},
   "outputs": [],
   "source": [
    "face_descriptor_passport = calc_descriptor(io.imread('../input/faces/photo6_passport.jpg'))\n",
    "face_descriptor_life = calc_descriptor(io.imread('../input/faces/photo6_life.jpg'))\n",
    "\n",
    "distance.euclidean(face_descriptor_passport, face_descriptor_life)"
   ]
  },
  {
   "cell_type": "code",
   "execution_count": null,
   "metadata": {},
   "outputs": [],
   "source": [
    "plt.figure(figsize=(12, 10))\n",
    "\n",
    "plt.subplot(121)\n",
    "io.imshow('../input/faces/desc_life_6.png')\n",
    "\n",
    "plt.subplot(122)\n",
    "io.imshow('../input/faces/desc_passport_6.png');"
   ]
  },
  {
   "cell_type": "markdown",
   "metadata": {},
   "source": [
    "Ooops jednak nie załapała się. Jak myślisz dlaczego?"
   ]
  },
  {
   "cell_type": "markdown",
   "metadata": {},
   "source": [
    "## Przykład #7"
   ]
  },
  {
   "cell_type": "code",
   "execution_count": null,
   "metadata": {},
   "outputs": [],
   "source": [
    "plt.figure(figsize=(12, 10))\n",
    "plt.axis('off')\n",
    "io.imshow('../input/faces/photo7.jpg');"
   ]
  },
  {
   "cell_type": "code",
   "execution_count": null,
   "metadata": {},
   "outputs": [],
   "source": [
    "face_descriptor_passport = calc_descriptor(io.imread('../input/faces/photo7_passport.jpg'))\n",
    "face_descriptor_life = calc_descriptor(io.imread('../input/faces/photo7_life.jpg'))\n",
    "\n",
    "distance.euclidean(face_descriptor_passport, face_descriptor_life)"
   ]
  },
  {
   "cell_type": "code",
   "execution_count": null,
   "metadata": {},
   "outputs": [],
   "source": [
    "plt.figure(figsize=(12, 10))\n",
    "\n",
    "plt.subplot(121)\n",
    "io.imshow('../input/faces/desc_life_7.png')\n",
    "\n",
    "plt.subplot(122)\n",
    "io.imshow('../input/faces/desc_passport_7.png');"
   ]
  },
  {
   "cell_type": "markdown",
   "metadata": {},
   "source": [
    "## Przykład #8"
   ]
  },
  {
   "cell_type": "code",
   "execution_count": null,
   "metadata": {},
   "outputs": [],
   "source": [
    "plt.figure(figsize=(12, 10))\n",
    "plt.axis('off')\n",
    "io.imshow('../input/faces/photo8.jpg');"
   ]
  },
  {
   "cell_type": "code",
   "execution_count": null,
   "metadata": {},
   "outputs": [],
   "source": [
    "#win = dlib.image_window()\n",
    "\n",
    "face_descriptor_passport = calc_descriptor(io.imread('../input/faces/photo8_passport.jpg'))\n",
    "face_descriptor_life = calc_descriptor(io.imread('../input/faces/photo8_life.jpg'))\n",
    "\n",
    "distance.euclidean(face_descriptor_passport, face_descriptor_life)"
   ]
  },
  {
   "cell_type": "markdown",
   "metadata": {},
   "source": [
    "Uhh... ależ poszalał chłopak, nawet model go nie rozpoznał :D."
   ]
  },
  {
   "cell_type": "code",
   "execution_count": null,
   "metadata": {},
   "outputs": [],
   "source": [
    "plt.figure(figsize=(12, 10))\n",
    "\n",
    "plt.subplot(121)\n",
    "io.imshow('../input/faces/desc_life_8.png')\n",
    "\n",
    "plt.subplot(122)\n",
    "io.imshow('../input/faces/desc_passport_8.png');"
   ]
  },
  {
   "cell_type": "markdown",
   "metadata": {},
   "source": [
    "## Przykład #9"
   ]
  },
  {
   "cell_type": "code",
   "execution_count": null,
   "metadata": {},
   "outputs": [],
   "source": [
    "plt.figure(figsize=(12, 10))\n",
    "plt.axis('off')\n",
    "io.imshow('../input/faces/photo9.jpg');"
   ]
  },
  {
   "cell_type": "code",
   "execution_count": null,
   "metadata": {},
   "outputs": [],
   "source": [
    "face_descriptor_passport = calc_descriptor(io.imread('../input/faces/photo9_passport.jpg'))\n",
    "face_descriptor_life = calc_descriptor(io.imread('../input/faces/photo9_life.jpg'))\n",
    "\n",
    "distance.euclidean(face_descriptor_passport, face_descriptor_life)"
   ]
  },
  {
   "cell_type": "markdown",
   "metadata": {},
   "source": [
    "## Przykład #10"
   ]
  },
  {
   "cell_type": "code",
   "execution_count": null,
   "metadata": {},
   "outputs": [],
   "source": [
    "plt.figure(figsize=(12, 10))\n",
    "plt.axis('off')\n",
    "io.imshow('../input/faces/photo10.jpg');"
   ]
  },
  {
   "cell_type": "code",
   "execution_count": null,
   "metadata": {},
   "outputs": [],
   "source": [
    "face_descriptor_passport = calc_descriptor(io.imread('../input/faces/photo10_passport.jpg'))\n",
    "face_descriptor_life = calc_descriptor(io.imread('../input/faces/photo10_life.jpg'))\n",
    "\n",
    "distance.euclidean(face_descriptor_passport, face_descriptor_life)"
   ]
  },
  {
   "cell_type": "markdown",
   "metadata": {},
   "source": [
    "Możesz porównać swoje zdjęcie i zobaczyć, na ile dobrze sobie algorytm poradzi :)"
   ]
  },
  {
   "cell_type": "code",
   "execution_count": null,
   "metadata": {},
   "outputs": [],
   "source": [
    "## YOUR CODE HERE"
   ]
  }
 ],
 "metadata": {
  "kernelspec": {
   "display_name": "Python 3",
   "language": "python",
   "name": "python3"
  },
  "language_info": {
   "codemirror_mode": {
    "name": "ipython",
    "version": 3
   },
   "file_extension": ".py",
   "mimetype": "text/x-python",
   "name": "python",
   "nbconvert_exporter": "python",
   "pygments_lexer": "ipython3",
   "version": "3.7.6"
  }
 },
 "nbformat": 4,
 "nbformat_minor": 2
}
