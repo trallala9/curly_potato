{
 "cells": [
  {
   "cell_type": "markdown",
   "metadata": {},
   "source": [
    "# Transfer Learning (podstawy) \n",
    "\n",
    "### Celem jest pokazanie, jak zastosować transfer wiedzy w najprostszym przypadku.\n",
    "\n",
    "Tak się przyjęło (Google narzucił taki trend), że klasyfikacja zdjęć zaczyna się od kotów. Dlatego kontynuując tę tradycję, też skupimy się na kocie.\n",
    "\n",
    "![](../input/cat.jpg)"
   ]
  },
  {
   "cell_type": "code",
   "execution_count": null,
   "metadata": {},
   "outputs": [],
   "source": [
    "from tensorflow.keras.applications.resnet50 import ResNet50\n",
    "from tensorflow.keras.preprocessing import image\n",
    "from tensorflow.keras.applications.resnet50 import preprocess_input, decode_predictions\n",
    "\n",
    "import numpy as np\n",
    "np.random.seed(2019)\n",
    "\n",
    "import matplotlib.pyplot as plt\n",
    "%matplotlib inline\n",
    "\n",
    "import os\n",
    "os.environ['OMP_NUM_THREADS'] = \"1\""
   ]
  },
  {
   "cell_type": "markdown",
   "metadata": {},
   "source": [
    "Wczytujemy już gotowy model (to może trochę potrwać), w tym przypadku jest to ResNet50."
   ]
  },
  {
   "cell_type": "code",
   "execution_count": null,
   "metadata": {},
   "outputs": [],
   "source": [
    "model = ResNet50(weights='imagenet')"
   ]
  },
  {
   "cell_type": "markdown",
   "metadata": {},
   "source": [
    "## Dane\n",
    "\n",
    "Wczytujemy zdjęcie i przygotowujemy dane. Dane wejściowe muszą być 224x224, jeśli zdjęcie będzie inne automatycznie zostanie zmienione."
   ]
  },
  {
   "cell_type": "code",
   "execution_count": null,
   "metadata": {},
   "outputs": [],
   "source": [
    "img = image.load_img('../input/cat.jpg', target_size=(224, 224))\n",
    "print(img)\n",
    "\n",
    "X = np.expand_dims(image.img_to_array(img), axis=0)\n",
    "print(X.shape)\n",
    "\n",
    "X = preprocess_input(X)"
   ]
  },
  {
   "cell_type": "markdown",
   "metadata": {},
   "source": [
    "## Predykcja"
   ]
  },
  {
   "cell_type": "code",
   "execution_count": null,
   "metadata": {},
   "outputs": [],
   "source": [
    "preds = model.predict(X)\n",
    "y_pred = decode_predictions(preds, top=3)[0]\n",
    "\n",
    "y_pred"
   ]
  },
  {
   "cell_type": "markdown",
   "metadata": {},
   "source": [
    "Model zwraca krotkę (ang. *tuple*) z trzema elementami:\n",
    "- ID klasy\n",
    "- nazwa (tak po ludzku)\n",
    "- prawdopodobieństwo (że obiekt/zdjęcie należy do tej klasy)\n",
    "\n",
    "## Wizualizacja"
   ]
  },
  {
   "cell_type": "code",
   "execution_count": null,
   "metadata": {},
   "outputs": [],
   "source": [
    "def show_result(y_pred):\n",
    "    plt.title(\"Kto to jest?\")\n",
    "    plt.ylabel(\"Prawdopodobieństwo\")\n",
    "    plt.xlabel(\"Klasa\")\n",
    "\n",
    "    values = [x[2] for x in y_pred]\n",
    "    labels = [x[1] for x in y_pred]\n",
    "    idxs = range(len(values))\n",
    "\n",
    "    plt.bar( idxs, values )\n",
    "    plt.xticks(idxs, labels)\n",
    "    \n",
    "show_result(y_pred)"
   ]
  },
  {
   "cell_type": "markdown",
   "metadata": {},
   "source": [
    "## Przykład #2\n",
    "Dodatkowy inspirujący przykład, tym razem ryba - [**anemone fish**](https://en.wikipedia.org/wiki/Amphiprioninae).\n",
    "\n",
    "![](../input/fish.jpg)"
   ]
  },
  {
   "cell_type": "code",
   "execution_count": null,
   "metadata": {},
   "outputs": [],
   "source": [
    "def read_img_and_predict(img_path):\n",
    "    img = image.load_img(img_path, target_size=(224, 224))\n",
    "    X = np.expand_dims(image.img_to_array(img), axis=0)\n",
    "    X = preprocess_input(X)\n",
    "\n",
    "    preds = model.predict(X)\n",
    "    return decode_predictions(preds, top=3)[0]\n",
    "    \n",
    "    \n",
    "show_result(read_img_and_predict('../input/fish.jpg'))"
   ]
  },
  {
   "cell_type": "markdown",
   "metadata": {},
   "source": [
    "Zwróć uwagę, że funkcja `read_img_and_predict` oczekuje tylko na ścieżkę do zdjęcia. Najpierw zdjęcie ma znaleźć się na Twoim komputerze, a potem możesz je wrzucić (`upload`) na serwer.\n",
    "\n",
    "Kliknij na przycisk \"Upload\" i wybierz zdjęcie. Masz prawo zapisu do katalogu \"output\".\n",
    "\n",
    "![](../images/upload.png)\n",
    "\n",
    "Kliknij na przycisk \"Upload\" i wtedy faktycznie plik zostanie wrzucony na serwer.\n",
    "![](../images/upload2.png)\n",
    "\n",
    "I wtedy zobaczysz dodane zdjęcie.\n",
    "![](../images/upload3.png)"
   ]
  },
  {
   "cell_type": "markdown",
   "metadata": {},
   "source": [
    "## Zadanie 7.2.1\n",
    "\n",
    "Sprawdź na kilku zdjęciach, jak dobrze działa model (to mogą być zwierzęta, ryby, miasta i nawet ludzie - chociaż z nimi radzi sobie gorzej). Tylko pamiętaj, że model został wytrenowany dla konkursu ImageNet i potrafi rozpoznać tylko 1000 klas, ale to i tak jest dość dużo.\n",
    "\n",
    "*Podpowiedź:* Jak nie masz pomysłu to możesz zajrzeć na stronę konkursu [ImageNet](http://image-net.org/explore) i podpatrzeć jakąś inspirację.\n",
    "\n",
    "**Uwaga**! Przeznacz na to zadanie nie więcej niż 30 minut."
   ]
  },
  {
   "cell_type": "code",
   "execution_count": null,
   "metadata": {},
   "outputs": [],
   "source": [
    "## YOUR CODE HERE"
   ]
  },
  {
   "cell_type": "markdown",
   "metadata": {},
   "source": [
    "## Przydatne linki:\n",
    "1. [A Comprehensive Hands-on Guide to Transfer Learning with Real-World Applications in Deep Learning](https://towardsdatascience.com/a-comprehensive-hands-on-guide-to-transfer-learning-with-real-world-applications-in-deep-learning-212bf3b2f27a)\n",
    "2. [Very deep convolutional networks for large-scale image recognition](https://arxiv.org/pdf/1409.1556.pdf)"
   ]
  },
  {
   "cell_type": "code",
   "execution_count": null,
   "metadata": {},
   "outputs": [],
   "source": []
  }
 ],
 "metadata": {
  "kernelspec": {
   "display_name": "Python 3",
   "language": "python",
   "name": "python3"
  },
  "language_info": {
   "codemirror_mode": {
    "name": "ipython",
    "version": 3
   },
   "file_extension": ".py",
   "mimetype": "text/x-python",
   "name": "python",
   "nbconvert_exporter": "python",
   "pygments_lexer": "ipython3",
   "version": "3.7.6"
  }
 },
 "nbformat": 4,
 "nbformat_minor": 2
}
